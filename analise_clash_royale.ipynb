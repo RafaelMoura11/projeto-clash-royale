{
 "cells": [
  {
   "cell_type": "markdown",
   "id": "f6c207de",
   "metadata": {},
   "source": [
    "# 📊 Análise de Batalhas - Clash Royale + MongoDB"
   ]
  },
  {
   "cell_type": "code",
   "execution_count": 1,
   "id": "d18fbfb1",
   "metadata": {},
   "outputs": [],
   "source": [
    "from pymongo import MongoClient\n",
    "from datetime import datetime\n",
    "from config import MONGO_URI, DB_NAME\n",
    "\n",
    "client = MongoClient(MONGO_URI)\n",
    "db = client[DB_NAME]\n",
    "battles = db[\"battles\"]\n"
   ]
  },
  {
   "cell_type": "markdown",
   "id": "9dccf8cc",
   "metadata": {},
   "source": [
    "## 🔍 Consulta 1 — % de Vitórias/Derrotas com uma Carta Específica"
   ]
  },
  {
   "cell_type": "code",
   "execution_count": 2,
   "id": "653ebba8",
   "metadata": {},
   "outputs": [
    {
     "name": "stdout",
     "output_type": "stream",
     "text": [
      "Carta: Rocket\n",
      "Período: 2025-04-01 até 2025-04-30\n",
      "Total de batalhas: 31\n",
      "Vitórias: 15 (48.39%)\n",
      "Derrotas: 16 (51.61%)\n"
     ]
    }
   ],
   "source": [
    "# Parâmetros da consulta\n",
    "carta = \"Rocket\"\n",
    "inicio = datetime(2025, 4, 1)\n",
    "fim = datetime(2025, 4, 30)\n",
    "\n",
    "# Pipeline\n",
    "pipeline1 = [\n",
    "    {\n",
    "        \"$match\": {\n",
    "            \"utcTime\": {\"$gte\": inicio, \"$lte\": fim},\n",
    "            \"$or\": [\n",
    "                {\"team.cards.name\": carta},\n",
    "                {\"opponent.cards.name\": carta}\n",
    "            ]\n",
    "        }\n",
    "    },\n",
    "    {\n",
    "        \"$group\": {\n",
    "            \"_id\": \"$is_winner\",\n",
    "            \"total\": {\"$sum\": 1}\n",
    "        }\n",
    "    }\n",
    "]\n",
    "\n",
    "# Execução\n",
    "result1 = list(battles.aggregate(pipeline1))\n",
    "\n",
    "# Processar resultados\n",
    "vitorias = sum(doc[\"total\"] for doc in result1 if doc[\"_id\"] == True)\n",
    "derrotas = sum(doc[\"total\"] for doc in result1 if doc[\"_id\"] == False)\n",
    "total = vitorias + derrotas\n",
    "\n",
    "print(f\"Carta: {carta}\")\n",
    "print(f\"Período: {inicio.date()} até {fim.date()}\")\n",
    "\n",
    "if total == 0:\n",
    "    print(\"Nenhuma batalha encontrada com essa carta no intervalo fornecido.\")\n",
    "else:\n",
    "    print(f\"Total de batalhas: {total}\")\n",
    "    print(f\"Vitórias: {vitorias} ({(vitorias/total)*100:.2f}%)\")\n",
    "    print(f\"Derrotas: {derrotas} ({(derrotas/total)*100:.2f}%)\")\n"
   ]
  },
  {
   "cell_type": "markdown",
   "id": "ca9f4641",
   "metadata": {},
   "source": [
    "## 🔍 Consulta 2 — Decks com mais de X% de vitórias"
   ]
  },
  {
   "cell_type": "code",
   "execution_count": 17,
   "id": "af84c75d",
   "metadata": {},
   "outputs": [
    {
     "name": "stdout",
     "output_type": "stream",
     "text": [
      "Decks com mais de 60% de vitórias entre 2025-04-01 e 2025-04-30\n",
      "Deck: ['Bats', 'Electro Giant', 'Lightning', 'Lumberjack', 'Minion Horde', 'Tesla', 'The Log', 'Valkyrie']\n",
      "Vitórias: 2 / 2 (100.00%)\n",
      "\n",
      "Deck: ['Barbarians', 'Fireball', 'Flying Machine', 'Goblin Cage', 'Royal Hogs', 'Royal Recruits', 'Wall Breakers', 'Zappies']\n",
      "Vitórias: 1 / 1 (100.00%)\n",
      "\n",
      "Deck: ['Bats', 'Electro Giant', 'Inferno Dragon', 'Lightning', 'Lumberjack', 'Minions', 'Tesla', 'Zap']\n",
      "Vitórias: 1 / 1 (100.00%)\n",
      "\n"
     ]
    }
   ],
   "source": [
    "# Parâmetros\n",
    "inicio = datetime(2025, 4, 1)\n",
    "fim = datetime(2025, 4, 30)\n",
    "min_porcentagem_vitoria = 60  # Exemplo: 60%\n",
    "\n",
    "# Conexão\n",
    "client = MongoClient(MONGO_URI)\n",
    "db = client[DB_NAME]\n",
    "battles = db[\"battles\"]\n",
    "\n",
    "# Pipeline\n",
    "pipeline2 = [\n",
    "    {\n",
    "        \"$match\": {\n",
    "            \"utcTime\": {\"$gte\": inicio, \"$lte\": fim}\n",
    "        }\n",
    "    },\n",
    "    {\n",
    "        \"$project\": {\n",
    "            \"deck\": {\n",
    "                \"$sortArray\": {\n",
    "                    \"input\": {\n",
    "                        \"$map\": {\n",
    "                            \"input\": {\n",
    "                                \"$ifNull\": [\n",
    "                                    { \"$getField\": {\n",
    "                                        \"field\": \"cards\",\n",
    "                                        \"input\": { \"$arrayElemAt\": [\"$team\", 0] }\n",
    "                                    }},\n",
    "                                    []\n",
    "                                ]\n",
    "                            },\n",
    "                            \"as\": \"card\",\n",
    "                            \"in\": \"$$card.name\"\n",
    "                        }\n",
    "                    },\n",
    "                    \"sortBy\": 1\n",
    "                }\n",
    "            },\n",
    "            \"is_winner\": 1\n",
    "        }\n",
    "    },\n",
    "    {\n",
    "        \"$group\": {\n",
    "            \"_id\": \"$deck\",\n",
    "            \"total\": {\"$sum\": 1},\n",
    "            \"vitorias\": {\n",
    "                \"$sum\": {\n",
    "                    \"$cond\": [{\"$eq\": [\"$is_winner\", True]}, 1, 0]\n",
    "                }\n",
    "            }\n",
    "        }\n",
    "    },\n",
    "    {\n",
    "        \"$project\": {\n",
    "            \"_id\": 0,\n",
    "            \"deck\": \"$_id\",\n",
    "            \"total\": 1,\n",
    "            \"vitorias\": 1,\n",
    "            \"porcentagem\": {\n",
    "                \"$multiply\": [\n",
    "                    {\"$divide\": [\"$vitorias\", \"$total\"]},\n",
    "                    100\n",
    "                ]\n",
    "            }\n",
    "        }\n",
    "    },\n",
    "    {\n",
    "        \"$match\": {\n",
    "            \"porcentagem\": {\"$gt\": min_porcentagem_vitoria}\n",
    "        }\n",
    "    },\n",
    "    {\n",
    "        \"$sort\": {\"porcentagem\": -1}\n",
    "    }\n",
    "]\n",
    "\n",
    "\n",
    "# Execução  \n",
    "result2 = list(battles.aggregate(pipeline2))\n",
    "\n",
    "# Exibição\n",
    "print(f\"Decks com mais de {min_porcentagem_vitoria}% de vitórias entre {inicio.date()} e {fim.date()}\")\n",
    "for deck in result2:\n",
    "    print(f\"Deck: {deck['deck']}\")\n",
    "    print(f\"Vitórias: {deck['vitorias']} / {deck['total']} ({deck['porcentagem']:.2f}%)\\n\")\n"
   ]
  }
 ],
 "metadata": {
  "kernelspec": {
   "display_name": "venv",
   "language": "python",
   "name": "python3"
  },
  "language_info": {
   "codemirror_mode": {
    "name": "ipython",
    "version": 3
   },
   "file_extension": ".py",
   "mimetype": "text/x-python",
   "name": "python",
   "nbconvert_exporter": "python",
   "pygments_lexer": "ipython3",
   "version": "3.12.3"
  }
 },
 "nbformat": 4,
 "nbformat_minor": 5
}
